{
 "cells": [
  {
   "cell_type": "markdown",
   "id": "403cbb89",
   "metadata": {},
   "source": [
    "## Solve Wordle"
   ]
  },
  {
   "cell_type": "code",
   "execution_count": 1,
   "id": "6d0e45bb",
   "metadata": {},
   "outputs": [],
   "source": [
    "# Dependencies\n",
    "import pandas as pd\n",
    "\n",
    "# Read five_letter_words list, word_scores and positional_word_scores dictionary from Word_Scores.ipynb\n",
    "%store -r five_letter_words\n",
    "%store -r word_scores\n",
    "%store -r positional_word_scores\n",
    "\n",
    "# Take out words that Wordle doesn't recognize from five_letter_words\n",
    "not_wordle_words = ['chaum', 'dumba', 'chyak', 'tould', 'culot']\n",
    "for word in not_wordle_words:\n",
    "    five_letter_words.remove(word)"
   ]
  },
  {
   "cell_type": "code",
   "execution_count": 2,
   "id": "4d913804",
   "metadata": {},
   "outputs": [],
   "source": [
    "def update_letter_colors(guess, grey_letters, yellow_letters_dict, green_letters_dict):\n",
    "    \n",
    "    grey_letters += input(f'\\nWhich letters in \"{guess}\" are grey? (Ex: orhc) ')\n",
    "    \n",
    "    yellow_letters = input(f'Which letters in \"{guess}\" are yellow? (Ex: orhc) ')\n",
    "    for letter in yellow_letters:\n",
    "        letter_index = guess.index(letter)\n",
    "        if letter in yellow_letters_dict.keys():\n",
    "            yellow_letters_dict[letter].append(letter_index)\n",
    "        else:\n",
    "            yellow_letters_dict[letter] = [letter_index]\n",
    "    \n",
    "    green_letters = input(f'Which letters in \"{guess}\" are green? (Ex: orhc) ')\n",
    "    for letter in green_letters:\n",
    "        letter_index = guess.index(letter)\n",
    "        if letter not in green_letters_dict.keys():\n",
    "            green_letters_dict[letter] = letter_index\n",
    "    \n",
    "    return grey_letters,yellow_letters_dict,green_letters_dict"
   ]
  },
  {
   "cell_type": "code",
   "execution_count": 3,
   "id": "c7627f75",
   "metadata": {},
   "outputs": [],
   "source": [
    "def find_words_that_fit(five_letter_words, grey_letters, yellow_letters_dict, green_letters_dict):\n",
    "    \n",
    "    words_that_fit = {}\n",
    "\n",
    "    for word in five_letter_words:\n",
    "\n",
    "        word_fits_grey = True\n",
    "        word_fits_yellow = True\n",
    "        word_fits_green = True\n",
    "\n",
    "        for letter in grey_letters:\n",
    "            if letter not in word:\n",
    "                word_fits_grey = True\n",
    "            else:\n",
    "                word_fits_grey = False\n",
    "                break\n",
    "\n",
    "        for letter in yellow_letters_dict.keys():\n",
    "            if letter not in word:\n",
    "                word_fits_yellow = False\n",
    "                break\n",
    "            else:\n",
    "                for index in yellow_letters_dict[letter]:\n",
    "                    if word[index] != letter:\n",
    "                        word_fits_yellow = True\n",
    "                    else:\n",
    "                        word_fits_yellow = False\n",
    "                        break\n",
    "                if word_fits_yellow == False:\n",
    "                    break\n",
    "\n",
    "        for letter in green_letters_dict.keys():\n",
    "            index = green_letters_dict[letter]\n",
    "            if word[index] == letter:\n",
    "                word_fits_green = True\n",
    "            else:\n",
    "                word_fits_green = False\n",
    "                break\n",
    "\n",
    "        if word_fits_grey & word_fits_yellow & word_fits_green:\n",
    "            words_that_fit[word] = [word_scores[word], positional_word_scores[word]]\n",
    "    \n",
    "    return words_that_fit"
   ]
  },
  {
   "cell_type": "code",
   "execution_count": 4,
   "id": "0905fc32",
   "metadata": {},
   "outputs": [],
   "source": [
    "def find_next_guess(words_that_fit):\n",
    "    \n",
    "    words_that_fit_df = pd.DataFrame({\n",
    "        \"Word\": words_that_fit.keys(),\n",
    "        \"Word Score\": [words_that_fit[word][0] for word in words_that_fit.keys()],\n",
    "        \"Positional Score\": [words_that_fit[word][1] for word in words_that_fit.keys()]\n",
    "    })\n",
    "\n",
    "    words_that_fit_df = words_that_fit_df.sort_values(by=[\"Word Score\", \"Positional Score\"], ascending=False)\n",
    "\n",
    "\n",
    "    # Print the number of words that fit along with the best word to guess next\n",
    "    guess = words_that_fit_df.iloc[0,0]\n",
    "    possible_guesses = len(words_that_fit_df)\n",
    "\n",
    "    print(f'\\nThere are {possible_guesses} words that could go next. Hmmm... try \"{guess}\" for your next guess!')\n",
    "    \n",
    "    return guess,words_that_fit_df"
   ]
  },
  {
   "cell_type": "code",
   "execution_count": 5,
   "id": "0ea436c2",
   "metadata": {},
   "outputs": [],
   "source": [
    "def find_best_wordle_word(is_wordle_word, words_that_fit_df):\n",
    "    \n",
    "    num_loops = 0\n",
    "    while is_wordle_word == \"n\":\n",
    "        #non_wordle_words.append(five_letter_words.pop(five_letter_words.index(next_guess)))\n",
    "        #del word_scores[next_guess]\n",
    "        #del positional_word_scores[next_guess]\n",
    "        \n",
    "        num_loops += 1\n",
    "        guess = words_that_fit_df.iloc[num_loops,0]\n",
    "        possible_guesses = len(words_that_fit_df) - num_loops\n",
    "        print(f'\\nWhoops! There are {possible_guesses} words that could go next. Hmmm... try \"{guess}\" for your next guess!')\n",
    "        is_wordle_word = input(f'Did Wordle recognize \"{guess}\" as a word? (y/n) ')\n",
    "    \n",
    "    return guess"
   ]
  },
  {
   "cell_type": "code",
   "execution_count": 6,
   "id": "87dce11d",
   "metadata": {
    "scrolled": true
   },
   "outputs": [
    {
     "name": "stdout",
     "output_type": "stream",
     "text": [
      "Here we go! There are almost 16,000 five-letter words, but your first guess should always be \"raise\" - Good luck!\n",
      "\n",
      "Which letters in \"raise\" are grey? (Ex: orhc) raise\n",
      "Which letters in \"raise\" are yellow? (Ex: orhc) \n",
      "Which letters in \"raise\" are green? (Ex: orhc) \n",
      "\n",
      "There are 793 words that could go next. Hmmm... try \"clout\" for your next guess!\n",
      "Did Wordle recognize \"clout\" as a word? (y/n) y\n",
      "Did \"clout\" solve Wordle? (y/n) n\n",
      "\n",
      "Which letters in \"clout\" are grey? (Ex: orhc) cl\n",
      "Which letters in \"clout\" are yellow? (Ex: orhc) ou\n",
      "Which letters in \"clout\" are green? (Ex: orhc) t\n",
      "\n",
      "There are 8 words that could go next. Hmmm... try \"mount\" for your next guess!\n",
      "Did Wordle recognize \"mount\" as a word? (y/n) y\n",
      "Did \"mount\" solve Wordle? (y/n) y\n",
      "\n",
      "BOOM!! We guessed \"mount\" in 3 tries!\n"
     ]
    }
   ],
   "source": [
    "# Initialize variables\n",
    "grey_letters = \"\"\n",
    "yellow_letters_dict = {}\n",
    "green_letters_dict = {}\n",
    "\n",
    "# Tell user to guess \"raise\" first\n",
    "guess = \"raise\"\n",
    "print(f'Here we go! There are almost 16,000 five-letter words, but your first guess should always be \"{guess}\" - Good luck!')\n",
    "\n",
    "# Create while loop to keep running program until the user inputs that Wordle is solved\n",
    "is_wordle_solved = \"n\"\n",
    "guess_counter = 1\n",
    "\n",
    "while is_wordle_solved == \"n\":\n",
    "    \n",
    "    # Increase guess counter\n",
    "    guess_counter += 1\n",
    "    \n",
    "    # Call function to update the letter colors\n",
    "    grey_letters,yellow_letters_dict,green_letters_dict = update_letter_colors(guess, grey_letters, yellow_letters_dict, green_letters_dict)\n",
    "    \n",
    "    # Call function to collect all the five-letter words that fit the color criteria\n",
    "    words_that_fit = find_words_that_fit(five_letter_words, grey_letters, yellow_letters_dict, green_letters_dict)\n",
    "    \n",
    "    # Call function to determine next guess\n",
    "    guess,words_that_fit_df = find_next_guess(words_that_fit)\n",
    "    \n",
    "    # Ask user if Wordle recognized the word\n",
    "    is_wordle_word = input(f'Did Wordle recognize \"{guess}\" as a word? (y/n) ')\n",
    "    \n",
    "    # If Wordle rejected the word, call the function to find the best word that Wordle will recognize\n",
    "    if is_wordle_word == \"n\":\n",
    "        guess = find_best_wordle_word(is_wordle_word, words_that_fit_df)\n",
    "    \n",
    "    # Ask the user if the guess solved Wordle\n",
    "    #    If no, the while loop will repeat\n",
    "    #    If yes, the while loop will stop\n",
    "    is_wordle_solved = input(f'Did \"{guess}\" solve Wordle? (y/n) ')\n",
    "\n",
    "\n",
    "# After the while loop, print statement with solution and number of guesses\n",
    "print(f'\\nBOOM!! We guessed \"{guess}\" in {guess_counter} tries!')\n"
   ]
  },
  {
   "cell_type": "code",
   "execution_count": null,
   "id": "08167892",
   "metadata": {},
   "outputs": [],
   "source": []
  },
  {
   "cell_type": "code",
   "execution_count": null,
   "id": "71f55e1a",
   "metadata": {},
   "outputs": [],
   "source": []
  },
  {
   "cell_type": "code",
   "execution_count": null,
   "id": "af99971e",
   "metadata": {},
   "outputs": [],
   "source": []
  },
  {
   "cell_type": "code",
   "execution_count": null,
   "id": "310b661a",
   "metadata": {},
   "outputs": [],
   "source": []
  },
  {
   "cell_type": "code",
   "execution_count": null,
   "id": "f0ab75f9",
   "metadata": {},
   "outputs": [],
   "source": []
  },
  {
   "cell_type": "code",
   "execution_count": 1,
   "id": "1efd22c5",
   "metadata": {},
   "outputs": [],
   "source": [
    "# PROBLEMS\n",
    "\n",
    "# Common words should be prioritized over uncommon words\n",
    "# Will the program allow a user to input, for example, that the letter \"l\" is green in 2 different places?\n",
    "# Wordle does not accept all words\n",
    "#    chaum, dumba, chyak, tould, culot"
   ]
  },
  {
   "cell_type": "code",
   "execution_count": 7,
   "id": "b861f94f",
   "metadata": {},
   "outputs": [
    {
     "data": {
      "text/plain": [
       "15913"
      ]
     },
     "execution_count": 7,
     "metadata": {},
     "output_type": "execute_result"
    }
   ],
   "source": [
    "len(five_letter_words)"
   ]
  },
  {
   "cell_type": "code",
   "execution_count": 8,
   "id": "cc477130",
   "metadata": {},
   "outputs": [],
   "source": [
    "#non_wordle_words"
   ]
  }
 ],
 "metadata": {
  "kernelspec": {
   "display_name": "PythonData",
   "language": "python",
   "name": "pythondata"
  },
  "language_info": {
   "codemirror_mode": {
    "name": "ipython",
    "version": 3
   },
   "file_extension": ".py",
   "mimetype": "text/x-python",
   "name": "python",
   "nbconvert_exporter": "python",
   "pygments_lexer": "ipython3",
   "version": "3.7.11"
  }
 },
 "nbformat": 4,
 "nbformat_minor": 5
}
