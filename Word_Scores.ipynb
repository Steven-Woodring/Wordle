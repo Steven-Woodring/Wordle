{
 "cells": [
  {
   "cell_type": "markdown",
   "id": "b2557f9d",
   "metadata": {},
   "source": [
    "## Data Processing"
   ]
  },
  {
   "cell_type": "code",
   "execution_count": 1,
   "id": "b4f61c31",
   "metadata": {},
   "outputs": [],
   "source": [
    "# Dependencies\n",
    "import pandas as pd\n",
    "import json"
   ]
  },
  {
   "cell_type": "code",
   "execution_count": 2,
   "id": "c91584cb",
   "metadata": {},
   "outputs": [],
   "source": [
    "# Read json file from https://github.com/dwyl/english-words/blob/master/words_dictionary.json\n",
    "json_file = open(\"Data/words_dictionary.json\")\n",
    "all_words = json.load(json_file)"
   ]
  },
  {
   "cell_type": "code",
   "execution_count": 3,
   "id": "4f108187",
   "metadata": {},
   "outputs": [
    {
     "name": "stdout",
     "output_type": "stream",
     "text": [
      "Stored 'five_letter_words' (list)\n"
     ]
    }
   ],
   "source": [
    "# Get list of five-letter words\n",
    "five_letter_words = []\n",
    "for word in all_words.keys():\n",
    "    if len(word) == 5:\n",
    "        five_letter_words.append(word)\n",
    "\n",
    "%store five_letter_words"
   ]
  },
  {
   "cell_type": "markdown",
   "id": "69fe2c09",
   "metadata": {},
   "source": [
    "## Letter Scores"
   ]
  },
  {
   "cell_type": "code",
   "execution_count": 4,
   "id": "4abaef08",
   "metadata": {},
   "outputs": [
    {
     "data": {
      "text/plain": [
       "{'a': 7247,\n",
       " 'b': 1936,\n",
       " 'c': 2588,\n",
       " 'd': 2639,\n",
       " 'e': 6728,\n",
       " 'f': 1115,\n",
       " 'g': 1867,\n",
       " 'h': 2223,\n",
       " 'i': 4767,\n",
       " 'j': 372,\n",
       " 'k': 1663,\n",
       " 'l': 3923,\n",
       " 'm': 2361,\n",
       " 'n': 3773,\n",
       " 'o': 4613,\n",
       " 'p': 2148,\n",
       " 'q': 139,\n",
       " 'r': 4864,\n",
       " 's': 5871,\n",
       " 't': 3866,\n",
       " 'u': 3241,\n",
       " 'v': 853,\n",
       " 'w': 1160,\n",
       " 'x': 357,\n",
       " 'y': 2476,\n",
       " 'z': 435}"
      ]
     },
     "execution_count": 4,
     "metadata": {},
     "output_type": "execute_result"
    }
   ],
   "source": [
    "# Get a dictionary of how many times each letter appears in five-letter words\n",
    "letter_appearences = {\"a\": 0, \"b\": 0, \"c\": 0, \"d\": 0, \"e\": 0, \"f\": 0, \"g\": 0, \"h\": 0, \"i\": 0, \"j\": 0, \"k\": 0, \"l\": 0,\n",
    "                      \"m\": 0, \"n\": 0, \"o\": 0, \"p\": 0, \"q\": 0, \"r\": 0, \"s\": 0, \"t\": 0, \"u\": 0, \"v\": 0, \"w\": 0, \"x\": 0,\n",
    "                      \"y\": 0, \"z\": 0}\n",
    "\n",
    "for word in five_letter_words:\n",
    "    for letter in letter_appearences.keys():\n",
    "        if letter in word:\n",
    "            letter_appearences[letter] += 1\n",
    "\n",
    "letter_appearences"
   ]
  },
  {
   "cell_type": "code",
   "execution_count": 5,
   "id": "8ea76bb7",
   "metadata": {},
   "outputs": [
    {
     "data": {
      "text/plain": [
       "{'First': {'a': 1173,\n",
       "  'b': 1141,\n",
       "  'c': 1196,\n",
       "  'd': 801,\n",
       "  'e': 421,\n",
       "  'f': 684,\n",
       "  'g': 737,\n",
       "  'h': 571,\n",
       "  'i': 301,\n",
       "  'j': 260,\n",
       "  'k': 473,\n",
       "  'l': 679,\n",
       "  'm': 849,\n",
       "  'n': 405,\n",
       "  'o': 334,\n",
       "  'p': 944,\n",
       "  'q': 85,\n",
       "  'r': 681,\n",
       "  's': 1813,\n",
       "  't': 981,\n",
       "  'u': 328,\n",
       "  'v': 287,\n",
       "  'w': 468,\n",
       "  'x': 27,\n",
       "  'y': 167,\n",
       "  'z': 112},\n",
       " 'Second': {'a': 2871,\n",
       "  'b': 108,\n",
       "  'c': 254,\n",
       "  'd': 136,\n",
       "  'e': 1970,\n",
       "  'f': 40,\n",
       "  'g': 102,\n",
       "  'h': 720,\n",
       "  'i': 1669,\n",
       "  'j': 19,\n",
       "  'k': 101,\n",
       "  'l': 866,\n",
       "  'm': 233,\n",
       "  'n': 557,\n",
       "  'o': 2281,\n",
       "  'p': 283,\n",
       "  'q': 21,\n",
       "  'r': 1151,\n",
       "  's': 173,\n",
       "  't': 316,\n",
       "  'u': 1403,\n",
       "  'v': 81,\n",
       "  'w': 174,\n",
       "  'x': 74,\n",
       "  'y': 279,\n",
       "  'z': 36},\n",
       " 'Third': {'a': 1481,\n",
       "  'b': 446,\n",
       "  'c': 531,\n",
       "  'd': 514,\n",
       "  'e': 1027,\n",
       "  'f': 198,\n",
       "  'g': 461,\n",
       "  'h': 208,\n",
       "  'i': 1267,\n",
       "  'j': 57,\n",
       "  'k': 309,\n",
       "  'l': 1060,\n",
       "  'm': 649,\n",
       "  'n': 1238,\n",
       "  'o': 1154,\n",
       "  'p': 434,\n",
       "  'q': 27,\n",
       "  'r': 1544,\n",
       "  's': 682,\n",
       "  't': 783,\n",
       "  'u': 787,\n",
       "  'v': 287,\n",
       "  'w': 276,\n",
       "  'x': 126,\n",
       "  'y': 229,\n",
       "  'z': 143},\n",
       " 'Fourth': {'a': 1585,\n",
       "  'b': 297,\n",
       "  'c': 542,\n",
       "  'd': 544,\n",
       "  'e': 2509,\n",
       "  'f': 215,\n",
       "  'g': 477,\n",
       "  'h': 288,\n",
       "  'i': 1321,\n",
       "  'j': 38,\n",
       "  'k': 484,\n",
       "  'l': 923,\n",
       "  'm': 466,\n",
       "  'n': 934,\n",
       "  'o': 903,\n",
       "  'p': 424,\n",
       "  'q': 3,\n",
       "  'r': 872,\n",
       "  's': 721,\n",
       "  't': 1019,\n",
       "  'u': 686,\n",
       "  'v': 200,\n",
       "  'w': 159,\n",
       "  'x': 18,\n",
       "  'y': 161,\n",
       "  'z': 129},\n",
       " 'Fifth': {'a': 1282,\n",
       "  'b': 97,\n",
       "  'c': 221,\n",
       "  'd': 816,\n",
       "  'e': 1873,\n",
       "  'f': 101,\n",
       "  'g': 194,\n",
       "  'h': 497,\n",
       "  'i': 509,\n",
       "  'j': 2,\n",
       "  'k': 376,\n",
       "  'l': 718,\n",
       "  'm': 297,\n",
       "  'n': 909,\n",
       "  'o': 547,\n",
       "  'p': 214,\n",
       "  'q': 3,\n",
       "  'r': 895,\n",
       "  's': 3148,\n",
       "  't': 1090,\n",
       "  'u': 157,\n",
       "  'v': 23,\n",
       "  'w': 94,\n",
       "  'x': 116,\n",
       "  'y': 1685,\n",
       "  'z': 54}}"
      ]
     },
     "execution_count": 5,
     "metadata": {},
     "output_type": "execute_result"
    }
   ],
   "source": [
    "# Create dictionary of how many times each letter appears in each position in five-letter words\n",
    "letter_positions = {\n",
    "    \"First\":  {\"a\": 0, \"b\": 0, \"c\": 0, \"d\": 0, \"e\": 0, \"f\": 0, \"g\": 0, \"h\": 0, \"i\": 0, \"j\": 0, \"k\": 0, \"l\": 0, \"m\": 0,\n",
    "               \"n\": 0, \"o\": 0, \"p\": 0, \"q\": 0, \"r\": 0, \"s\": 0, \"t\": 0, \"u\": 0, \"v\": 0, \"w\": 0, \"x\": 0,\"y\": 0, \"z\": 0},\n",
    "    \"Second\": {\"a\": 0, \"b\": 0, \"c\": 0, \"d\": 0, \"e\": 0, \"f\": 0, \"g\": 0, \"h\": 0, \"i\": 0, \"j\": 0, \"k\": 0, \"l\": 0, \"m\": 0,\n",
    "               \"n\": 0, \"o\": 0, \"p\": 0, \"q\": 0, \"r\": 0, \"s\": 0, \"t\": 0, \"u\": 0, \"v\": 0, \"w\": 0, \"x\": 0,\"y\": 0, \"z\": 0},\n",
    "    \"Third\":  {\"a\": 0, \"b\": 0, \"c\": 0, \"d\": 0, \"e\": 0, \"f\": 0, \"g\": 0, \"h\": 0, \"i\": 0, \"j\": 0, \"k\": 0, \"l\": 0, \"m\": 0,\n",
    "               \"n\": 0, \"o\": 0, \"p\": 0, \"q\": 0, \"r\": 0, \"s\": 0, \"t\": 0, \"u\": 0, \"v\": 0, \"w\": 0, \"x\": 0,\"y\": 0, \"z\": 0},\n",
    "    \"Fourth\": {\"a\": 0, \"b\": 0, \"c\": 0, \"d\": 0, \"e\": 0, \"f\": 0, \"g\": 0, \"h\": 0, \"i\": 0, \"j\": 0, \"k\": 0, \"l\": 0, \"m\": 0,\n",
    "               \"n\": 0, \"o\": 0, \"p\": 0, \"q\": 0, \"r\": 0, \"s\": 0, \"t\": 0, \"u\": 0, \"v\": 0, \"w\": 0, \"x\": 0,\"y\": 0, \"z\": 0},\n",
    "    \"Fifth\":  {\"a\": 0, \"b\": 0, \"c\": 0, \"d\": 0, \"e\": 0, \"f\": 0, \"g\": 0, \"h\": 0, \"i\": 0, \"j\": 0, \"k\": 0, \"l\": 0, \"m\": 0,\n",
    "               \"n\": 0, \"o\": 0, \"p\": 0, \"q\": 0, \"r\": 0, \"s\": 0, \"t\": 0, \"u\": 0, \"v\": 0, \"w\": 0, \"x\": 0,\"y\": 0, \"z\": 0}\n",
    "}\n",
    "\n",
    "for word in five_letter_words:\n",
    "    for i in range(5):\n",
    "        if i == 0:\n",
    "            letter_position = \"First\"\n",
    "        elif i == 1:\n",
    "            letter_position = \"Second\"\n",
    "        elif i == 2:\n",
    "            letter_position = \"Third\"\n",
    "        elif i == 3:\n",
    "            letter_position = \"Fourth\"\n",
    "        else:\n",
    "            letter_position = \"Fifth\"\n",
    "        letter_positions[letter_position][word[i]] += 1\n",
    "\n",
    "# Make the ending \"s\" 0 to make plurals less valuable\n",
    "# letter_positions[\"Fifth\"][\"s\"] = 0\n",
    "\n",
    "letter_positions"
   ]
  },
  {
   "cell_type": "markdown",
   "id": "e81e0a0d",
   "metadata": {},
   "source": [
    "## Word Scores"
   ]
  },
  {
   "cell_type": "code",
   "execution_count": 6,
   "id": "dac11629",
   "metadata": {},
   "outputs": [
    {
     "name": "stdout",
     "output_type": "stream",
     "text": [
      "Stored 'word_scores' (dict)\n"
     ]
    }
   ],
   "source": [
    "# Create dictionary of words with their word scores\n",
    "word_scores = {}\n",
    "\n",
    "for word in five_letter_words:\n",
    "    word_score = 0\n",
    "    for letter in word:\n",
    "        if word.count(letter) < 2:\n",
    "            letter_score = letter_appearences[letter]\n",
    "            word_score += letter_score\n",
    "    word_scores[word] = word_score\n",
    "\n",
    "%store word_scores"
   ]
  },
  {
   "cell_type": "code",
   "execution_count": 7,
   "id": "23662a2c",
   "metadata": {},
   "outputs": [
    {
     "name": "stdout",
     "output_type": "stream",
     "text": [
      "Stored 'positional_word_scores' (dict)\n"
     ]
    }
   ],
   "source": [
    "# Create dictionary of words with their word scores based on letter positioning\n",
    "positional_word_scores = {}\n",
    "\n",
    "for word in five_letter_words:\n",
    "    word_score = 0\n",
    "    for i in range(5):\n",
    "        if word.count(word[i]) < 2:\n",
    "            if i == 0:\n",
    "                letter_position = \"First\"\n",
    "            elif i == 1:\n",
    "                letter_position = \"Second\"\n",
    "            elif i == 2:\n",
    "                letter_position = \"Third\"\n",
    "            elif i == 3:\n",
    "                letter_position = \"Fourth\"\n",
    "            else:\n",
    "                letter_position = \"Fifth\"\n",
    "            letter_score = letter_positions[letter_position][word[i]]\n",
    "            word_score += letter_score\n",
    "    positional_word_scores[word] = word_score\n",
    "\n",
    "%store positional_word_scores"
   ]
  },
  {
   "cell_type": "code",
   "execution_count": 8,
   "id": "d4ba93af",
   "metadata": {},
   "outputs": [
    {
     "data": {
      "text/html": [
       "<div>\n",
       "<style scoped>\n",
       "    .dataframe tbody tr th:only-of-type {\n",
       "        vertical-align: middle;\n",
       "    }\n",
       "\n",
       "    .dataframe tbody tr th {\n",
       "        vertical-align: top;\n",
       "    }\n",
       "\n",
       "    .dataframe thead th {\n",
       "        text-align: right;\n",
       "    }\n",
       "</style>\n",
       "<table border=\"1\" class=\"dataframe\">\n",
       "  <thead>\n",
       "    <tr style=\"text-align: right;\">\n",
       "      <th></th>\n",
       "      <th>Word</th>\n",
       "      <th>Word Score</th>\n",
       "      <th>Positional Score</th>\n",
       "    </tr>\n",
       "  </thead>\n",
       "  <tbody>\n",
       "    <tr>\n",
       "      <th>866</th>\n",
       "      <td>aries</td>\n",
       "      <td>29477</td>\n",
       "      <td>9248</td>\n",
       "    </tr>\n",
       "    <tr>\n",
       "      <th>12345</th>\n",
       "      <td>serai</td>\n",
       "      <td>29477</td>\n",
       "      <td>7421</td>\n",
       "    </tr>\n",
       "    <tr>\n",
       "      <th>11268</th>\n",
       "      <td>raise</td>\n",
       "      <td>29477</td>\n",
       "      <td>7413</td>\n",
       "    </tr>\n",
       "    <tr>\n",
       "      <th>873</th>\n",
       "      <td>arise</td>\n",
       "      <td>29477</td>\n",
       "      <td>6185</td>\n",
       "    </tr>\n",
       "    <tr>\n",
       "      <th>229</th>\n",
       "      <td>aesir</td>\n",
       "      <td>29477</td>\n",
       "      <td>6041</td>\n",
       "    </tr>\n",
       "  </tbody>\n",
       "</table>\n",
       "</div>"
      ],
      "text/plain": [
       "        Word  Word Score  Positional Score\n",
       "866    aries       29477              9248\n",
       "12345  serai       29477              7421\n",
       "11268  raise       29477              7413\n",
       "873    arise       29477              6185\n",
       "229    aesir       29477              6041"
      ]
     },
     "execution_count": 8,
     "metadata": {},
     "output_type": "execute_result"
    }
   ],
   "source": [
    "word_scores_df = pd.DataFrame({\n",
    "    \"Word\": word_scores.keys(),\n",
    "    \"Word Score\": word_scores.values(),\n",
    "    \"Positional Score\": positional_word_scores.values()\n",
    "})\n",
    "\n",
    "word_scores_df = word_scores_df.sort_values(by=[\"Word Score\", \"Positional Score\"], ascending=False)\n",
    "word_scores_df.head()"
   ]
  }
 ],
 "metadata": {
  "kernelspec": {
   "display_name": "PythonData",
   "language": "python",
   "name": "pythondata"
  },
  "language_info": {
   "codemirror_mode": {
    "name": "ipython",
    "version": 3
   },
   "file_extension": ".py",
   "mimetype": "text/x-python",
   "name": "python",
   "nbconvert_exporter": "python",
   "pygments_lexer": "ipython3",
   "version": "3.7.11"
  }
 },
 "nbformat": 4,
 "nbformat_minor": 5
}
